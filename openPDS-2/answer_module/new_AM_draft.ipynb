{
 "cells": [
  {
   "cell_type": "code",
   "execution_count": 2,
   "metadata": {
    "collapsed": true
   },
   "outputs": [],
   "source": [
    "import json"
   ]
  },
  {
   "cell_type": "code",
   "execution_count": 3,
   "metadata": {
    "collapsed": true
   },
   "outputs": [],
   "source": [
    "demogroups = {\n",
    "    'age'      : ('18', '18_24', '25_34', '35_44', '45_54', '55_64', '65'),\n",
    "    'education': ('College', 'Grad_School', 'No_College'),\n",
    "    'gender'   : ('Female', 'Male'),\n",
    "    'income'   : ('0_50k', '50_100k', '100_150k', '150k'),\n",
    "    'kids'     : ('Has_Kids', 'No_Kids'),\n",
    "    'race_US'  : ('Caucasian', 'African_American', 'Asian' , 'Hispanic')\n",
    "}"
   ]
  },
  {
   "cell_type": "code",
   "execution_count": 4,
   "metadata": {
    "collapsed": true
   },
   "outputs": [],
   "source": [
    "raw_model = {}"
   ]
  },
  {
   "cell_type": "code",
   "execution_count": 5,
   "metadata": {
    "collapsed": false
   },
   "outputs": [],
   "source": [
    "with open ('scrapped_us.json', 'r') as f:\n",
    "    raw_model = json.load(f)"
   ]
  },
  {
   "cell_type": "code",
   "execution_count": 6,
   "metadata": {
    "collapsed": false
   },
   "outputs": [],
   "source": [
    "bh = {'yelp.com':5,\n",
    "      'pinterest.com':7,\n",
    "      'gasbuddy.com': 5,\n",
    "      'pretty52.com':3\n",
    "}"
   ]
  },
  {
   "cell_type": "markdown",
   "metadata": {},
   "source": [
    "Initialize the results"
   ]
  },
  {
   "cell_type": "code",
   "execution_count": 67,
   "metadata": {
    "collapsed": true
   },
   "outputs": [
    {
     "name": "stdout",
     "output_type": "stream",
     "text": [
      "{'kids': {'No_Kids': 1, 'Has_Kids': 1}, 'race_US': {'Hispanic': 1, 'Asian': 1, 'Caucasian': 1, 'African_American': 1}, 'gender': {'Male': 1, 'Female': 1}, 'age': {'25_34': 1, '18': 1, '55_64': 1, '65': 1, '18_24': 1, '45_54': 1, '35_44': 1}, 'income': {'50_100k': 1, '150k': 1, '0_50k': 1, '100_150k': 1}, 'education': {'Grad_School': 1, 'No_College': 1, 'College': 1}}\n"
     ]
    }
   ],
   "source": [
    "results = {}\n",
    "for gr_name, cat_labels in demogroups.iteritems():\n",
    "    results[gr_name] = {cat:1 for cat in cat_labels}\n",
    "print results "
   ]
  },
  {
   "cell_type": "markdown",
   "metadata": {},
   "source": [
    "Compute the product of group frequencies"
   ]
  },
  {
   "cell_type": "code",
   "execution_count": 70,
   "metadata": {
    "collapsed": false
   },
   "outputs": [],
   "source": [
    "for domain, count in bh.iteritems():\n",
    "    if domain not in raw_model: continue\n",
    "        \n",
    "    domain = raw_model[domain]\n",
    "    for cat_gr, cats in results.iteritems():\n",
    "        \n",
    "        for cat, vals in cats.iteritems():\n",
    "            if cat in domain: \n",
    "                vals = domain[cat]\n",
    "                cats[cat] *= vals[1]**count\n"
   ]
  },
  {
   "cell_type": "markdown",
   "metadata": {},
   "source": [
    "Normalize to sum to 1 per category group"
   ]
  },
  {
   "cell_type": "code",
   "execution_count": 75,
   "metadata": {
    "collapsed": false
   },
   "outputs": [],
   "source": [
    "def normalize_products(categories_group):\n",
    "    total = sum(categories_group.values())\n",
    "    for category, product in categories_group.iteritems():\n",
    "        categories_group[category] = [product, product/total]\n",
    "        \n",
    "    \n",
    "for group in results.values():\n",
    "    normalize_products(group)"
   ]
  },
  {
   "cell_type": "code",
   "execution_count": 83,
   "metadata": {
    "collapsed": true
   },
   "outputs": [
    {
     "name": "stdout",
     "output_type": "stream",
     "text": [
      "kids\n",
      "No_Kids 0.988929566237\n",
      "race_US\n",
      "Caucasian 0.99999999992\n",
      "gender\n",
      "Female 0.814576932613\n",
      "age\n",
      "25_34 0.46585484019\n",
      "income\n",
      "0_50k 0.946173041124\n",
      "education\n",
      "College 0.95644585005\n"
     ]
    }
   ],
   "source": [
    "for lab, gr in results.iteritems():\n",
    "    print lab\n",
    "    high = max(gr.iterkeys(), key=(lambda key: gr[key][1]))\n",
    "    print high, gr[high][1]\n"
   ]
  },
  {
   "cell_type": "code",
   "execution_count": 84,
   "metadata": {
    "collapsed": false
   },
   "outputs": [],
   "source": [
    "with open ('scrapped_us.json', 'r') as f:\n",
    "    old_model = json.load(f)"
   ]
  },
  {
   "cell_type": "code",
   "execution_count": 93,
   "metadata": {
    "collapsed": false
   },
   "outputs": [
    {
     "data": {
      "text/plain": [
       "4840"
      ]
     },
     "execution_count": 93,
     "metadata": {},
     "output_type": "execute_result"
    }
   ],
   "source": [
    "len(old_model)"
   ]
  }
 ],
 "metadata": {
  "kernelspec": {
   "display_name": "Python 2",
   "language": "python",
   "name": "python2"
  },
  "language_info": {
   "codemirror_mode": {
    "name": "ipython",
    "version": 2
   },
   "file_extension": ".py",
   "mimetype": "text/x-python",
   "name": "python",
   "nbconvert_exporter": "python",
   "pygments_lexer": "ipython2",
   "version": "2.7.11"
  }
 },
 "nbformat": 4,
 "nbformat_minor": 0
}
