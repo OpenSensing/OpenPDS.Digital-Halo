{
 "cells": [
  {
   "cell_type": "code",
   "execution_count": 5,
   "metadata": {
    "collapsed": true
   },
   "outputs": [],
   "source": [
    "import pandas as pd\n",
    "from collections import OrderedDict        \n",
    "from copy import deepcopy"
   ]
  },
  {
   "cell_type": "code",
   "execution_count": 52,
   "metadata": {
    "collapsed": false
   },
   "outputs": [],
   "source": [
    "demogroups = {\n",
    "\t'age'      : ('18', '18_24', '25_34', '35_44', '45_54', '55_64', '65'),\n",
    "\t'education': ('College', 'Grad_School', 'No_College'),\n",
    "\t'gender'   : ('Female', 'Male'),\n",
    "\t'income'   : ('0-50k', '50-100k', '100-150k', '150k'),\n",
    "\t'kids'     : ('Has_Kids', 'No_Kids'),\n",
    "\t'race_US'  : ('Caucasian', 'African_American', 'Asian' , 'Hispanic')\n",
    "}\n",
    "\n",
    "priors = {\n",
    "    'age'       : {\"25_34\": 0.173, \"18\": 0.181, \"55_64\": 0.102, \"65\": 0.052, \"18_24\": 0.127, \"45_54\": 0.175, \"35_44\": 0.193},\n",
    "    'education' : {'No_College': 0.447, 'College': 0.408, 'Grad_School': 0.145},\n",
    "    'kids'      : {'Has_Kids': 0.507, 'No_Kids': 0.493},\n",
    "    'income'    : {'0-50k': 0.512, '50-100k': 0.283, '100-150k': 0.118, '150k': 0.082},\n",
    "    'race_US'   : {'Caucasian': 0.762, 'African_American': 0.095, 'Asian': 0.047 , 'Hispanic': 0.096},\n",
    "    'gender'    : {'Male': 0.5,'Female': 0.5}\n",
    "}    "
   ]
  },
  {
   "cell_type": "code",
   "execution_count": 6,
   "metadata": {
    "collapsed": false
   },
   "outputs": [],
   "source": [
    "all_cats = OrderedDict()\n",
    "for category, bins in demogroups.iteritems():\n",
    "    for bin in bins:\n",
    "        all_cats[bin] = None"
   ]
  },
  {
   "cell_type": "code",
   "execution_count": 7,
   "metadata": {
    "collapsed": false
   },
   "outputs": [
    {
     "name": "stdout",
     "output_type": "stream",
     "text": [
      "['Has_Kids', 'No_Kids', 'Caucasian', 'African_American', 'Asian', 'Hispanic', 'Female', 'Male', '18', '18_24', '25_34', '35_44', '45_54', '55_64', '65', '0-50k', '50-100k', '100-150k', '150k', 'College', 'Grad_School', 'No_College']\n"
     ]
    }
   ],
   "source": [
    "cols = all_cats.keys()\n",
    "print cols"
   ]
  },
  {
   "cell_type": "code",
   "execution_count": 69,
   "metadata": {
    "collapsed": false
   },
   "outputs": [],
   "source": [
    "test_pages =[\n",
    "\n",
    "    {\"name\": 'radaronline.com',\"Male\":45,\"Female\":153,\"18\":49,\"18_24\":52,\"25_34\":125,\"35_44\":143,\"45_54\":119,\"55_64\":113,\"65\":68,\"No_Kids\":82,\"Has_Kids\":118,\"0-50k\":89,\"50-100k\":111,\"100-150k\":110,\"150k\":112,\"No_College\":81,\"College\":120,\"Grad_School\":101,\"Caucasian\":92,\"African_American\":150,\"Asian\":62,\"Hispanic\":132,\"Other\":105},\n",
    "    {\"name\": 'looper.com'    ,\"Male\":125,\"Female\":76,\"18\":82,\"18_24\":66,\"25_34\":96,\"35_44\":120,\"45_54\":114,\"55_64\":117,\"65\":103,\"No_Kids\":91,\"Has_Kids\":109,\"0-50k\":95,\"50-100k\":106,\"100-150k\":104,\"150k\":104,\"No_College\":84,\"College\":114,\"Grad_School\":111,\"Caucasian\":97,\"African_American\":119,\"Asian\":73,\"Hispanic\":116,\"Other\":104},\n",
    "    {\"name\":'usmagazine.com' ,\"Male\":34,\"Female\":163,\"18\":51,\"18_24\":72,\"25_34\":141,\"35_44\":142,\"45_54\":105,\"55_64\":93,\"65\":53,\"No_Kids\":85,\"Has_Kids\":116,\"0-50k\":92,\"50-100k\":107,\"100-150k\":110,\"150k\":110,\"No_College\":80,\"College\":119,\"Grad_School\":107,\"Caucasian\":97,\"African_American\":99,\"Asian\":97,\"Hispanic\":125,\"Other\":98},\n",
    "    {\"name\":'goodreads.com' ,\"Male\":60,\"Female\":138,\"18\":93,\"18_24\":128,\"25_34\":116,\"35_44\":99,\"45_54\":89,\"55_64\":86,\"65\":75,\"No_Kids\":104,\"Has_Kids\":95,\"0-50k\":101,\"50-100k\":102,\"100-150k\":97,\"150k\":94,\"No_College\":73,\"College\":112,\"Grad_School\":150,\"Caucasian\":104,\"African_American\":79,\"Asian\":103,\"Hispanic\":88,\"Other\":98},\n",
    "    {\"name\": 'al.com'       ,\"Male\":133,\"Female\":68,\"18\":69,\"18_24\":64,\"25_34\":95,\"35_44\":112,\"45_54\":130,\"55_64\":125,\"65\":118,\"No_Kids\":95,\"Has_Kids\":105,\"0-50k\":89,\"50-100k\":108,\"100-150k\":122,\"150k\":109,\"No_College\":69,\"College\":120,\"Grad_School\":141,\"Caucasian\":104,\"African_American\":155,\"Asian\":43,\"Hispanic\":41,\"Other\":91}\n",
    "]\n",
    "    "
   ]
  },
  {
   "cell_type": "code",
   "execution_count": 40,
   "metadata": {
    "collapsed": true
   },
   "outputs": [],
   "source": [
    "one_site = {\"name\": 'radaronline.com',\"Male\":45,\"Female\":153,\"18\":49,\"18_24\":52,\"25_34\":125,\"35_44\":143,\"45_54\":119,\"55_64\":113,\"65\":68,\"No_Kids\":82,\"Has_Kids\":118,\"0-50k\":89,\"50-100k\":111,\"100-150k\":110,\"150k\":112,\"No_College\":81,\"College\":120,\"Grad_School\":101,\"Caucasian\":92,\"African_American\":150,\"Asian\":62,\"Hispanic\":132,\"Other\":105}\n",
    " "
   ]
  },
  {
   "cell_type": "code",
   "execution_count": 46,
   "metadata": {
    "collapsed": false
   },
   "outputs": [
    {
     "data": {
      "text/plain": [
       "5.67"
      ]
     },
     "execution_count": 46,
     "metadata": {},
     "output_type": "execute_result"
    }
   ],
   "source": [
    "float(\"{0:.2f}\".format(5.66666))"
   ]
  },
  {
   "cell_type": "code",
   "execution_count": 120,
   "metadata": {
    "collapsed": false
   },
   "outputs": [],
   "source": [
    "def calc_local(pop_prob, index_value):\n",
    "    return float(\"{0:.2f}\".format(pop_prob * (index_value / 100.0)))\n",
    "\n",
    "def calc_local_for_whole_page(indexes):\n",
    "    local_values = {}\n",
    "    missing      = {}\n",
    "    for gr_name, gr in priors.iteritems():\n",
    "        for category, percentage in gr.iteritems():\n",
    "            if indexes.get(category):\n",
    "                local_values[category] =  calc_local(percentage, indexes[category])\n",
    "            else:\n",
    "                if not missing.get(gr_name):\n",
    "                    missing[gr_name] = []\n",
    "                missing[gr_name].append(category)\n",
    "    \n",
    "    for gr_name, cats in missing.iteritems():\n",
    "        local_sum_missing = 1\n",
    "        for category in priors[gr_name].keys():\n",
    "            if local_values.get(category):\n",
    "                local_sum_missing -= local_values.get(category)\n",
    "        prior_sum_missing = 0\n",
    "        for category in cats:\n",
    "            prior_sum_missing += priors[gr_name][category]\n",
    "        \n",
    "        index_of_missing_mean = (local_sum_missing / prior_sum_missing) * 100\n",
    "        \n",
    "        for category in cats:\n",
    "            local_values[category] = calc_local(priors[gr_name][category] , index_of_missing_mean)\n",
    "               \n",
    "        \n",
    "    return local_values\n",
    "    \n",
    "\n",
    "    \n",
    "    \n",
    "        \n",
    "    "
   ]
  },
  {
   "cell_type": "code",
   "execution_count": 122,
   "metadata": {
    "collapsed": true
   },
   "outputs": [
    {
     "data": {
      "text/plain": [
       "{'0-50k': 0.47,\n",
       " '100-150k': 0.13,\n",
       " '150k': 0.09,\n",
       " '18': 0.09,\n",
       " '18_24': 0.06,\n",
       " '25_34': 0.22,\n",
       " '35_44': 0.28,\n",
       " '45_54': 0.21,\n",
       " '50-100k': 0.31,\n",
       " '55_64': 0.12,\n",
       " '65': 0.02,\n",
       " 'African_American': 0.14,\n",
       " 'Asian': 0.04,\n",
       " 'Caucasian': 0.69,\n",
       " 'College': 0.49,\n",
       " 'Female': 0.77,\n",
       " 'Grad_School': 0.15,\n",
       " 'Has_Kids': 0.6,\n",
       " 'Hispanic': 0.13,\n",
       " 'Male': 0.23,\n",
       " 'No_College': 0.36,\n",
       " 'No_Kids': 0.4}"
      ]
     },
     "execution_count": 122,
     "metadata": {},
     "output_type": "execute_result"
    }
   ],
   "source": [
    "calc_local_for_whole_page({\"Female\":153,\"25_34\":125,\"35_44\":143,\"45_54\":119,\"55_64\":113,\"Has_Kids\":118,\"50-100k\":111,\"100-150k\":110,\"150k\":112,\"College\":120,\"Grad_School\":101,\"African_American\":150,\"Hispanic\":132,\"Other\":105}\n",
    " )"
   ]
  },
  {
   "cell_type": "code",
   "execution_count": 111,
   "metadata": {
    "collapsed": true
   },
   "outputs": [
    {
     "data": {
      "text/plain": [
       "{'0-50k': 0.46,\n",
       " '100-150k': 0.13,\n",
       " '150k': 0.09,\n",
       " '18': 0.09,\n",
       " '18_24': 0.07,\n",
       " '25_34': 0.22,\n",
       " '35_44': 0.28,\n",
       " '45_54': 0.21,\n",
       " '50-100k': 0.31,\n",
       " '55_64': 0.12,\n",
       " '65': 0.04,\n",
       " 'African_American': 0.14,\n",
       " 'Asian': 0.03,\n",
       " 'Caucasian': 0.7,\n",
       " 'College': 0.49,\n",
       " 'Female': 0.77,\n",
       " 'Grad_School': 0.15,\n",
       " 'Has_Kids': 0.6,\n",
       " 'Hispanic': 0.13,\n",
       " 'Male': 0.23,\n",
       " 'No_College': 0.36,\n",
       " 'No_Kids': 0.4}"
      ]
     },
     "execution_count": 111,
     "metadata": {},
     "output_type": "execute_result"
    }
   ],
   "source": [
    "calc_local_for_whole_page(one_site)"
   ]
  },
  {
   "cell_type": "code",
   "execution_count": 109,
   "metadata": {
    "collapsed": false
   },
   "outputs": [],
   "source": [
    "def calc_for_many(pages):\n",
    "    results =  []\n",
    "    for page in pages:\n",
    "        name    = page['name']\n",
    "        result  = calc_local_for_whole_page(page)\n",
    "        result['name'] = name\n",
    "        results.append(result) \n",
    "    \n",
    "    return results \n",
    "    "
   ]
  },
  {
   "cell_type": "code",
   "execution_count": 126,
   "metadata": {
    "collapsed": true
   },
   "outputs": [
    {
     "data": {
      "text/plain": [
       "{'0-50k': 89,\n",
       " '18': 49,\n",
       " '18_24': 52,\n",
       " '65': 68,\n",
       " 'Asian': 62,\n",
       " 'Caucasian': 92,\n",
       " 'Male': 45,\n",
       " 'No_College': 81,\n",
       " 'No_Kids': 82}"
      ]
     },
     "execution_count": 126,
     "metadata": {},
     "output_type": "execute_result"
    }
   ],
   "source": [
    "{k:v for k,v in one_site.iteritems() if v <=100}"
   ]
  },
  {
   "cell_type": "code",
   "execution_count": 139,
   "metadata": {
    "collapsed": false
   },
   "outputs": [],
   "source": [
    "def calc_for_many_missing(pages):\n",
    "    results =  []\n",
    "    for page in pages:\n",
    "        name    = page['name']\n",
    "        result  = calc_local_for_whole_page(page)\n",
    "        \n",
    "        page_no_negatives = {k:v for k,v in page.iteritems() if v>= 100}\n",
    "        imputed = calc_local_for_whole_page(page_no_negatives)\n",
    "        \n",
    "        result = {k:[v, imputed[k], float(\"{0:.2f}\".format((v-imputed[k])/v)),page[k]] for k,v in result.iteritems()}\n",
    "        result['name'] = name\n",
    "        results.append(result) \n",
    "    \n",
    "    return results     "
   ]
  },
  {
   "cell_type": "code",
   "execution_count": 140,
   "metadata": {
    "collapsed": false
   },
   "outputs": [
    {
     "data": {
      "text/plain": [
       "[{'0-50k': [0.46, 0.47, -0.02, 89],\n",
       "  '100-150k': [0.13, 0.13, 0.0, 110],\n",
       "  '150k': [0.09, 0.09, 0.0, 112],\n",
       "  '18': [0.09, 0.09, 0.0, 49],\n",
       "  '18_24': [0.07, 0.06, 0.14, 52],\n",
       "  '25_34': [0.22, 0.22, 0.0, 125],\n",
       "  '35_44': [0.28, 0.28, 0.0, 143],\n",
       "  '45_54': [0.21, 0.21, 0.0, 119],\n",
       "  '50-100k': [0.31, 0.31, 0.0, 111],\n",
       "  '55_64': [0.12, 0.12, 0.0, 113],\n",
       "  '65': [0.04, 0.02, 0.5, 68],\n",
       "  'African_American': [0.14, 0.14, 0.0, 150],\n",
       "  'Asian': [0.03, 0.04, -0.33, 62],\n",
       "  'Caucasian': [0.7, 0.69, 0.01, 92],\n",
       "  'College': [0.49, 0.49, 0.0, 120],\n",
       "  'Female': [0.77, 0.77, 0.0, 153],\n",
       "  'Grad_School': [0.15, 0.15, 0.0, 101],\n",
       "  'Has_Kids': [0.6, 0.6, 0.0, 118],\n",
       "  'Hispanic': [0.13, 0.13, 0.0, 132],\n",
       "  'Male': [0.23, 0.23, 0.0, 45],\n",
       "  'No_College': [0.36, 0.36, 0.0, 81],\n",
       "  'No_Kids': [0.4, 0.4, 0.0, 82],\n",
       "  'name': 'radaronline.com'},\n",
       " {'0-50k': [0.49, 0.49, 0.0, 95],\n",
       "  '100-150k': [0.12, 0.12, 0.0, 104],\n",
       "  '150k': [0.09, 0.09, 0.0, 104],\n",
       "  '18': [0.15, 0.15, 0.0, 82],\n",
       "  '18_24': [0.08, 0.11, -0.38, 66],\n",
       "  '25_34': [0.17, 0.14, 0.18, 96],\n",
       "  '35_44': [0.23, 0.23, 0.0, 120],\n",
       "  '45_54': [0.2, 0.2, 0.0, 114],\n",
       "  '50-100k': [0.3, 0.3, 0.0, 106],\n",
       "  '55_64': [0.12, 0.12, 0.0, 117],\n",
       "  '65': [0.05, 0.05, 0.0, 103],\n",
       "  'African_American': [0.11, 0.11, 0.0, 119],\n",
       "  'Asian': [0.03, 0.05, -0.67, 73],\n",
       "  'Caucasian': [0.74, 0.73, 0.01, 97],\n",
       "  'College': [0.47, 0.47, 0.0, 114],\n",
       "  'Female': [0.38, 0.38, 0.0, 76],\n",
       "  'Grad_School': [0.16, 0.16, 0.0, 111],\n",
       "  'Has_Kids': [0.55, 0.55, 0.0, 109],\n",
       "  'Hispanic': [0.11, 0.11, 0.0, 116],\n",
       "  'Male': [0.62, 0.62, 0.0, 125],\n",
       "  'No_College': [0.38, 0.37, 0.03, 84],\n",
       "  'No_Kids': [0.45, 0.45, 0.0, 91],\n",
       "  'name': 'looper.com'},\n",
       " {'0-50k': [0.47, 0.48, -0.02, 92],\n",
       "  '100-150k': [0.13, 0.13, 0.0, 110],\n",
       "  '150k': [0.09, 0.09, 0.0, 110],\n",
       "  '18': [0.09, 0.12, -0.33, 51],\n",
       "  '18_24': [0.09, 0.09, 0.0, 72],\n",
       "  '25_34': [0.24, 0.24, 0.0, 141],\n",
       "  '35_44': [0.27, 0.27, 0.0, 142],\n",
       "  '45_54': [0.18, 0.18, 0.0, 105],\n",
       "  '50-100k': [0.3, 0.3, 0.0, 107],\n",
       "  '55_64': [0.09, 0.07, 0.22, 93],\n",
       "  '65': [0.03, 0.03, 0.0, 53],\n",
       "  'African_American': [0.09, 0.09, 0.0, 99],\n",
       "  'Asian': [0.05, 0.05, 0.0, 97],\n",
       "  'Caucasian': [0.74, 0.74, 0.0, 97],\n",
       "  'College': [0.49, 0.49, 0.0, 119],\n",
       "  'Female': [0.81, 0.81, 0.0, 163],\n",
       "  'Grad_School': [0.16, 0.16, 0.0, 107],\n",
       "  'Has_Kids': [0.59, 0.59, 0.0, 116],\n",
       "  'Hispanic': [0.12, 0.12, 0.0, 125],\n",
       "  'Male': [0.17, 0.19, -0.12, 34],\n",
       "  'No_College': [0.36, 0.35, 0.03, 80],\n",
       "  'No_Kids': [0.42, 0.41, 0.02, 85],\n",
       "  'name': 'usmagazine.com'},\n",
       " {'0-50k': [0.52, 0.52, 0.0, 101],\n",
       "  '100-150k': [0.11, 0.11, 0.0, 97],\n",
       "  '150k': [0.08, 0.08, 0.0, 94],\n",
       "  '18': [0.17, 0.16, 0.06, 93],\n",
       "  '18_24': [0.16, 0.16, 0.0, 128],\n",
       "  '25_34': [0.2, 0.2, 0.0, 116],\n",
       "  '35_44': [0.19, 0.18, 0.05, 99],\n",
       "  '45_54': [0.16, 0.16, 0.0, 89],\n",
       "  '50-100k': [0.29, 0.29, 0.0, 102],\n",
       "  '55_64': [0.09, 0.09, 0.0, 86],\n",
       "  '65': [0.04, 0.05, -0.25, 75],\n",
       "  'African_American': [0.08, 0.08, 0.0, 79],\n",
       "  'Asian': [0.05, 0.05, 0.0, 103],\n",
       "  'Caucasian': [0.79, 0.79, 0.0, 104],\n",
       "  'College': [0.46, 0.46, 0.0, 112],\n",
       "  'Female': [0.69, 0.69, 0.0, 138],\n",
       "  'Grad_School': [0.22, 0.22, 0.0, 150],\n",
       "  'Has_Kids': [0.48, 0.49, -0.02, 95],\n",
       "  'Hispanic': [0.08, 0.08, 0.0, 88],\n",
       "  'Male': [0.3, 0.31, -0.03, 60],\n",
       "  'No_College': [0.33, 0.32, 0.03, 73],\n",
       "  'No_Kids': [0.51, 0.51, 0.0, 104],\n",
       "  'name': 'goodreads.com'},\n",
       " {'0-50k': [0.46, 0.46, 0.0, 89],\n",
       "  '100-150k': [0.14, 0.14, 0.0, 122],\n",
       "  '150k': [0.09, 0.09, 0.0, 109],\n",
       "  '18': [0.12, 0.14, -0.17, 69],\n",
       "  '18_24': [0.08, 0.1, -0.25, 64],\n",
       "  '25_34': [0.16, 0.13, 0.19, 95],\n",
       "  '35_44': [0.22, 0.22, 0.0, 112],\n",
       "  '45_54': [0.23, 0.23, 0.0, 130],\n",
       "  '50-100k': [0.31, 0.31, 0.0, 108],\n",
       "  '55_64': [0.13, 0.13, 0.0, 125],\n",
       "  '65': [0.06, 0.06, 0.0, 118],\n",
       "  'African_American': [0.15, 0.15, 0.0, 155],\n",
       "  'Asian': [0.02, 0.02, 0.0, 43],\n",
       "  'Caucasian': [0.79, 0.79, 0.0, 104],\n",
       "  'College': [0.49, 0.49, 0.0, 120],\n",
       "  'Female': [0.34, 0.33, 0.03, 68],\n",
       "  'Grad_School': [0.2, 0.2, 0.0, 141],\n",
       "  'Has_Kids': [0.53, 0.53, 0.0, 105],\n",
       "  'Hispanic': [0.04, 0.04, 0.0, 41],\n",
       "  'Male': [0.67, 0.67, 0.0, 133],\n",
       "  'No_College': [0.31, 0.31, 0.0, 69],\n",
       "  'No_Kids': [0.47, 0.47, 0.0, 95],\n",
       "  'name': 'al.com'}]"
      ]
     },
     "execution_count": 140,
     "metadata": {},
     "output_type": "execute_result"
    }
   ],
   "source": [
    "calc_for_many_missing(test_pages)"
   ]
  },
  {
   "cell_type": "code",
   "execution_count": 5,
   "metadata": {
    "collapsed": false
   },
   "outputs": [],
   "source": [
    "from collections import OrderedDict\n",
    "all_cats = OrderedDict()\n",
    "for category, bins in demogroups.iteritems():\n",
    "    for bin in bins:\n",
    "        all_cats[bin] = None\n",
    "        \n",
    "from copy import deepcopy\n"
   ]
  },
  {
   "cell_type": "code",
   "execution_count": 2,
   "metadata": {
    "collapsed": false
   },
   "outputs": [
    {
     "ename": "NameError",
     "evalue": "name 'all_cats' is not defined",
     "output_type": "error",
     "traceback": [
      "\u001b[0;31m---------------------------------------------------------------------------\u001b[0m",
      "\u001b[0;31mNameError\u001b[0m                                 Traceback (most recent call last)",
      "\u001b[0;32m<ipython-input-2-1fed956faa60>\u001b[0m in \u001b[0;36m<module>\u001b[0;34m()\u001b[0m\n\u001b[0;32m----> 1\u001b[0;31m \u001b[0mall_cats\u001b[0m\u001b[0;34m.\u001b[0m\u001b[0mkeys\u001b[0m\u001b[0;34m(\u001b[0m\u001b[0;34m)\u001b[0m\u001b[0;34m\u001b[0m\u001b[0m\n\u001b[0m",
      "\u001b[0;31mNameError\u001b[0m: name 'all_cats' is not defined"
     ]
    }
   ],
   "source": [
    "all_cats.keys()"
   ]
  },
  {
   "cell_type": "code",
   "execution_count": 12,
   "metadata": {
    "collapsed": true
   },
   "outputs": [],
   "source": [
    "import csv\n",
    "def loadModel (model_file):\n",
    "    model_dic = {}\n",
    "    with open(model_file,'r') as data_file:\n",
    "        reader = csv.reader(data_file, delimiter = '\\t')\n",
    "        for line in reader:\n",
    "            if len(line) == 2: model_dic[line[1]] = int(line[0])\n",
    "\n",
    "    return model_dic"
   ]
  },
  {
   "cell_type": "code",
   "execution_count": 10,
   "metadata": {
    "collapsed": false
   },
   "outputs": [],
   "source": [
    "\n",
    "dir_path = '/Users/mpio/Dropbox/Apps/openPDS.Digital-Halo/model/'\n",
    "\n",
    "all_sites = {}\n",
    "\n",
    "def get_all_sites () :\n",
    "\n",
    "\n",
    "    for bin in all_cats.keys():\n",
    "        cf = loadModel(dir_path + bin + '.txt-goog.txt')\n",
    "\n",
    "        for domain, cn in cf.iteritems():\n",
    "            if domain not in all_sites:\n",
    "                all_sites[domain] = deepcopy(all_cats)\n",
    "\n",
    "            all_sites[domain][bin] = cn"
   ]
  },
  {
   "cell_type": "code",
   "execution_count": 83,
   "metadata": {
    "collapsed": false,
    "scrolled": true
   },
   "outputs": [],
   "source": [
    "df = df.append(ass, ignore_index=True)"
   ]
  },
  {
   "cell_type": "code",
   "execution_count": 88,
   "metadata": {
    "collapsed": false
   },
   "outputs": [],
   "source": [
    "df = df.set_index('name')"
   ]
  }
 ],
 "metadata": {
  "kernelspec": {
   "display_name": "Python 2",
   "language": "python",
   "name": "python2"
  },
  "language_info": {
   "codemirror_mode": {
    "name": "ipython",
    "version": 2
   },
   "file_extension": ".py",
   "mimetype": "text/x-python",
   "name": "python",
   "nbconvert_exporter": "python",
   "pygments_lexer": "ipython2",
   "version": "2.7.11"
  }
 },
 "nbformat": 4,
 "nbformat_minor": 0
}
